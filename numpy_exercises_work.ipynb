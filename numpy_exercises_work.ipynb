{
 "cells": [
  {
   "cell_type": "markdown",
   "id": "e8b241f3",
   "metadata": {},
   "source": [
    "# Numpy Exercises\n",
    "Use the following code for the questions below:"
   ]
  },
  {
   "cell_type": "code",
   "execution_count": 1,
   "id": "cebc71e4",
   "metadata": {},
   "outputs": [],
   "source": [
    "import numpy as np\n",
    "a = np.array([4, 10, 12, 23, -2, -1, 0, 0, 0, -6, 3, -7])"
   ]
  },
  {
   "cell_type": "markdown",
   "id": "3b9c68da",
   "metadata": {},
   "source": [
    "1. How many negative numbers are there?"
   ]
  },
  {
   "cell_type": "code",
   "execution_count": 5,
   "id": "3612f7d0",
   "metadata": {},
   "outputs": [
    {
     "data": {
      "text/plain": [
       "4"
      ]
     },
     "execution_count": 5,
     "metadata": {},
     "output_type": "execute_result"
    }
   ],
   "source": [
    "# select a where a is less than 0, display length of that array\n",
    "len(a[a<0])"
   ]
  },
  {
   "cell_type": "markdown",
   "id": "7f01a571",
   "metadata": {},
   "source": [
    "2. How many positive numbers are there?"
   ]
  },
  {
   "cell_type": "code",
   "execution_count": 6,
   "id": "8a3b0a24",
   "metadata": {},
   "outputs": [
    {
     "data": {
      "text/plain": [
       "5"
      ]
     },
     "execution_count": 6,
     "metadata": {},
     "output_type": "execute_result"
    }
   ],
   "source": [
    "# select a where a is greater than 0, display length of that array\n",
    "len(a[a>0])"
   ]
  },
  {
   "cell_type": "markdown",
   "id": "9b298e6c",
   "metadata": {},
   "source": [
    "3. How many even positive numbers are there?"
   ]
  },
  {
   "cell_type": "code",
   "execution_count": 8,
   "id": "42429a4d",
   "metadata": {},
   "outputs": [
    {
     "data": {
      "text/plain": [
       "3"
      ]
     },
     "execution_count": 8,
     "metadata": {},
     "output_type": "execute_result"
    }
   ],
   "source": [
    "# select a where a>0 and a%2==0, display length of that array\n",
    "len(a[(a>0) & (a%2==0)])"
   ]
  },
  {
   "cell_type": "markdown",
   "id": "6583a7c7",
   "metadata": {},
   "source": [
    "4. If you were to add 3 to each data point, how many positive numbers would there be?"
   ]
  },
  {
   "cell_type": "code",
   "execution_count": 16,
   "id": "93c1d279",
   "metadata": {},
   "outputs": [
    {
     "data": {
      "text/plain": [
       "10"
      ]
     },
     "execution_count": 16,
     "metadata": {},
     "output_type": "execute_result"
    }
   ],
   "source": [
    "# add 3 to each data point\n",
    "a_plus_3 = a + 3\n",
    "# show length of new array containing only positive values if 3 is added to each value\n",
    "len(a_plus_3[a_plus_3>0])"
   ]
  },
  {
   "cell_type": "markdown",
   "id": "f56814b4",
   "metadata": {},
   "source": [
    "5. If you squared each number, what would the new mean and standard deviation be?"
   ]
  },
  {
   "cell_type": "code",
   "execution_count": 21,
   "id": "14e31714",
   "metadata": {},
   "outputs": [
    {
     "name": "stdout",
     "output_type": "stream",
     "text": [
      "The new mean is 74.0.\n",
      "The new standard deviation is 144.0243035046516.\n"
     ]
    }
   ],
   "source": [
    "# square each number\n",
    "a_squared = a**2\n",
    "# print new mean and new standard deviation\n",
    "print(f'The new mean is {np.mean(a_squared)}.')\n",
    "print(f'The new standard deviation is {a_squared.std()}.')"
   ]
  },
  {
   "cell_type": "markdown",
   "id": "e08f31df",
   "metadata": {},
   "source": [
    "6. A common statistical operation on a dataset is centering. This means to adjust the data such that the mean of the data is 0. This is done by subtracting the mean from each data point. Center the data set. "
   ]
  },
  {
   "cell_type": "code",
   "execution_count": 25,
   "id": "618ff595",
   "metadata": {},
   "outputs": [
    {
     "data": {
      "text/plain": [
       "0.0"
      ]
     },
     "execution_count": 25,
     "metadata": {},
     "output_type": "execute_result"
    }
   ],
   "source": [
    "# center data by subtracting mean from each value\n",
    "a_centered = a-a.mean()\n",
    "# check that mean of centered data is 0\n",
    "a_centered.mean()"
   ]
  },
  {
   "cell_type": "markdown",
   "id": "398c0504",
   "metadata": {},
   "source": [
    "7. Calculate the z-score for each data point. Recall that the z-score is given by:\n",
    "Z=(x−μ)/σ"
   ]
  },
  {
   "cell_type": "code",
   "execution_count": 23,
   "id": "eb268ad7",
   "metadata": {},
   "outputs": [
    {
     "data": {
      "text/plain": [
       "array([ 0.12403473,  0.86824314,  1.11631261,  2.48069469, -0.62017367,\n",
       "       -0.49613894, -0.3721042 , -0.3721042 , -0.3721042 , -1.11631261,\n",
       "        0.        , -1.24034735])"
      ]
     },
     "execution_count": 23,
     "metadata": {},
     "output_type": "execute_result"
    }
   ],
   "source": [
    "# calculate z scores from a\n",
    "a_zscores = (a-a.mean())/a.std()\n",
    "# output array of zscores\n",
    "a_zscores"
   ]
  },
  {
   "cell_type": "markdown",
   "id": "41aaded4",
   "metadata": {},
   "source": [
    "8. Copy the setup and exercise directions from More Numpy Practice into your numpy_exercises.py and add your solutions."
   ]
  },
  {
   "cell_type": "code",
   "execution_count": 26,
   "id": "40ddeb6e",
   "metadata": {},
   "outputs": [],
   "source": [
    "# Life w/o numpy to life with numpy\n",
    "\n",
    "## Setup 1\n",
    "a = [1, 2, 3, 4, 5, 6, 7, 8, 9, 10]\n",
    "\n",
    "# Use python's built in functionality/operators to determine the following:"
   ]
  },
  {
   "cell_type": "code",
   "execution_count": 27,
   "id": "d8023bdd",
   "metadata": {},
   "outputs": [],
   "source": [
    "# Exercise 1 - Make a variable called sum_of_a to hold the sum of all the numbers in above list\n"
   ]
  },
  {
   "cell_type": "code",
   "execution_count": 28,
   "id": "8a08f71a",
   "metadata": {},
   "outputs": [],
   "source": [
    "# Exercise 2 - Make a variable named min_of_a to hold the minimum of all the numbers in the above list\n"
   ]
  },
  {
   "cell_type": "code",
   "execution_count": 29,
   "id": "044f35ac",
   "metadata": {},
   "outputs": [],
   "source": [
    "# Exercise 3 - Make a variable named max_of_a to hold the max number of all the numbers in the above list\n"
   ]
  },
  {
   "cell_type": "code",
   "execution_count": 30,
   "id": "8d1665bd",
   "metadata": {},
   "outputs": [],
   "source": [
    "# Exercise 4 - Make a variable named mean_of_a to hold the average of all the numbers in the above list\n"
   ]
  },
  {
   "cell_type": "code",
   "execution_count": 31,
   "id": "a25a4cf1",
   "metadata": {},
   "outputs": [],
   "source": [
    "# Exercise 5 - Make a variable named product_of_a to hold the product of multiplying all the numbers in the above list together\n"
   ]
  },
  {
   "cell_type": "code",
   "execution_count": 32,
   "id": "c6b68079",
   "metadata": {},
   "outputs": [],
   "source": [
    "# Exercise 6 - Make a variable named squares_of_a. It should hold each number in a squared like [1, 4, 9, 16, 25...]\n"
   ]
  },
  {
   "cell_type": "code",
   "execution_count": 33,
   "id": "30d5dc81",
   "metadata": {},
   "outputs": [],
   "source": [
    "# Exercise 7 - Make a variable named odds_in_a. It should hold only the odd numbers\n"
   ]
  },
  {
   "cell_type": "code",
   "execution_count": 34,
   "id": "a2414fee",
   "metadata": {},
   "outputs": [],
   "source": [
    "# Exercise 8 - Make a variable named evens_in_a. It should hold only the evens.\n"
   ]
  },
  {
   "cell_type": "code",
   "execution_count": 35,
   "id": "fca4907e",
   "metadata": {},
   "outputs": [],
   "source": [
    "## What about life in two dimensions? A list of lists is matrix, a table, a spreadsheet, a chessboard...\n",
    "## Setup 2: Consider what it would take to find the sum, min, max, average, sum, product, and list of squares for this list of two lists.\n",
    "b = [\n",
    "    [3, 4, 5],\n",
    "    [6, 7, 8]\n",
    "]"
   ]
  },
  {
   "cell_type": "code",
   "execution_count": null,
   "id": "8c3b8fec",
   "metadata": {},
   "outputs": [],
   "source": [
    "# Exercise 1 - refactor the following to use numpy. Use sum_of_b as the variable. **Hint, you'll first need to make sure that the \"b\" variable is a numpy array**\n",
    "sum_of_b = 0\n",
    "for row in b:\n",
    "    sum_of_b += sum(row)"
   ]
  },
  {
   "cell_type": "code",
   "execution_count": null,
   "id": "35e640a4",
   "metadata": {},
   "outputs": [],
   "source": [
    "# Exercise 2 - refactor the following to use numpy. \n",
    "min_of_b = min(b[0]) if min(b[0]) <= min(b[1]) else min(b[1])  "
   ]
  },
  {
   "cell_type": "code",
   "execution_count": null,
   "id": "ff48cd39",
   "metadata": {},
   "outputs": [],
   "source": [
    "# Exercise 3 - refactor the following maximum calculation to find the answer with numpy.\n",
    "max_of_b = max(b[0]) if max(b[0]) >= max(b[1]) else max(b[1])\n"
   ]
  },
  {
   "cell_type": "code",
   "execution_count": null,
   "id": "437c0768",
   "metadata": {},
   "outputs": [],
   "source": [
    "# Exercise 4 - refactor the following using numpy to find the mean of b\n",
    "mean_of_b = (sum(b[0]) + sum(b[1])) / (len(b[0]) + len(b[1]))\n"
   ]
  },
  {
   "cell_type": "code",
   "execution_count": null,
   "id": "447f5c25",
   "metadata": {},
   "outputs": [],
   "source": [
    "# Exercise 5 - refactor the following to use numpy for calculating the product of all numbers multiplied together.\n",
    "product_of_b = 1\n",
    "for row in b:\n",
    "    for number in row:\n",
    "        product_of_b *= number\n"
   ]
  },
  {
   "cell_type": "code",
   "execution_count": null,
   "id": "893a9808",
   "metadata": {},
   "outputs": [],
   "source": [
    "# Exercise 6 - refactor the following to use numpy to find the list of squares \n",
    "squares_of_b = []\n",
    "for row in b:\n",
    "    for number in row:\n",
    "        squares_of_b.append(number**2)\n"
   ]
  },
  {
   "cell_type": "code",
   "execution_count": null,
   "id": "136c40a9",
   "metadata": {},
   "outputs": [],
   "source": [
    "# Exercise 7 - refactor using numpy to determine the odds_in_b\n",
    "odds_in_b = []\n",
    "for row in b:\n",
    "    for number in row:\n",
    "        if(number % 2 != 0):\n",
    "            odds_in_b.append(number)"
   ]
  },
  {
   "cell_type": "code",
   "execution_count": null,
   "id": "4dddeafb",
   "metadata": {},
   "outputs": [],
   "source": [
    "# Exercise 8 - refactor the following to use numpy to filter only the even numbers\n",
    "evens_in_b = []\n",
    "for row in b:\n",
    "    for number in row:\n",
    "        if(number % 2 == 0):\n",
    "            evens_in_b.append(number)"
   ]
  },
  {
   "cell_type": "code",
   "execution_count": null,
   "id": "42b14476",
   "metadata": {},
   "outputs": [],
   "source": [
    "# Exercise 9 - print out the shape of the array b.\n"
   ]
  },
  {
   "cell_type": "code",
   "execution_count": null,
   "id": "cadbdd49",
   "metadata": {},
   "outputs": [],
   "source": [
    "# Exercise 10 - transpose the array b.\n"
   ]
  },
  {
   "cell_type": "code",
   "execution_count": null,
   "id": "5ef5371e",
   "metadata": {},
   "outputs": [],
   "source": [
    "# Exercise 11 - reshape the array b to be a single list of 6 numbers. (1 x 6)\n"
   ]
  },
  {
   "cell_type": "code",
   "execution_count": null,
   "id": "9b7a6d9c",
   "metadata": {},
   "outputs": [],
   "source": [
    "# Exercise 12 - reshape the array b to be a list of 6 lists, each containing only 1 number (6 x 1)\n"
   ]
  },
  {
   "cell_type": "code",
   "execution_count": null,
   "id": "ed280817",
   "metadata": {},
   "outputs": [],
   "source": [
    "## Setup 3\n",
    "c = [\n",
    "    [1, 2, 3],\n",
    "    [4, 5, 6],\n",
    "    [7, 8, 9]\n",
    "]\n",
    "\n",
    "# HINT, you'll first need to make sure that the \"c\" variable is a numpy array prior to using numpy array methods."
   ]
  },
  {
   "cell_type": "code",
   "execution_count": null,
   "id": "aaad9c01",
   "metadata": {},
   "outputs": [],
   "source": [
    "# Exercise 1 - Find the min, max, sum, and product of c.\n"
   ]
  },
  {
   "cell_type": "code",
   "execution_count": null,
   "id": "fdb228f3",
   "metadata": {},
   "outputs": [],
   "source": [
    "# Exercise 2 - Determine the standard deviation of c.\n"
   ]
  },
  {
   "cell_type": "code",
   "execution_count": null,
   "id": "31a5a0a8",
   "metadata": {},
   "outputs": [],
   "source": [
    "# Exercise 3 - Determine the variance of c.\n"
   ]
  },
  {
   "cell_type": "code",
   "execution_count": null,
   "id": "a3062a7b",
   "metadata": {},
   "outputs": [],
   "source": [
    "# Exercise 4 - Print out the shape of the array c\n"
   ]
  },
  {
   "cell_type": "code",
   "execution_count": null,
   "id": "66c1e15b",
   "metadata": {},
   "outputs": [],
   "source": [
    "# Exercise 5 - Transpose c and print out transposed result.\n"
   ]
  },
  {
   "cell_type": "code",
   "execution_count": null,
   "id": "7c0c46dc",
   "metadata": {},
   "outputs": [],
   "source": [
    "# Exercise 6 - Get the dot product of the array c with c. \n"
   ]
  },
  {
   "cell_type": "code",
   "execution_count": null,
   "id": "c553ff9a",
   "metadata": {},
   "outputs": [],
   "source": [
    "# Exercise 7 - Write the code necessary to sum up the result of c times c transposed. Answer should be 261\n"
   ]
  },
  {
   "cell_type": "code",
   "execution_count": null,
   "id": "13139248",
   "metadata": {},
   "outputs": [],
   "source": []
  }
 ],
 "metadata": {
  "kernelspec": {
   "display_name": "Python 3",
   "language": "python",
   "name": "python3"
  },
  "language_info": {
   "codemirror_mode": {
    "name": "ipython",
    "version": 3
   },
   "file_extension": ".py",
   "mimetype": "text/x-python",
   "name": "python",
   "nbconvert_exporter": "python",
   "pygments_lexer": "ipython3",
   "version": "3.8.8"
  }
 },
 "nbformat": 4,
 "nbformat_minor": 5
}
