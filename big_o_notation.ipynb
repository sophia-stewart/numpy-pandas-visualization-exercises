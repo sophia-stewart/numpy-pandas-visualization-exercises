{
 "cells": [
  {
   "cell_type": "markdown",
   "id": "faa4872c",
   "metadata": {},
   "source": [
    "# Big O Notation"
   ]
  },
  {
   "cell_type": "markdown",
   "id": "a1e31459",
   "metadata": {},
   "source": [
    "5. Make a new Jupyter notebook named big_o_notation.ipynb\n",
    "\n",
    "- Title your chart \"Big O Notation\"\n",
    "- Label your x axis \"Elements\"\n",
    "- Label your y axis \"Operations\"\n",
    "- Label your curves or make a legend for the curves\n",
    "- Use LaTex notation where possible\n",
    "\n",
    "Curves to graph:\n",
    "\n",
    "- y=0n+1 and label the curve \"O(1)\"\n",
    "- y=log(n) and label the curve \"O(log n)\"\n",
    "- y=n and label the curve \"O(n)\"\n",
    "- y=n∗log(n) and label it \"O(n log n)\"\n",
    "- y=n^2 and label it \"O(n^2)\"\n",
    "- y=2^n and label it \"O(2^n)\"\n",
    "- y=n! and label it \"O(n!)\"\n",
    "- y=n^n and label it \"O(n^n)\""
   ]
  },
  {
   "cell_type": "code",
   "execution_count": 43,
   "id": "126e8d3f",
   "metadata": {},
   "outputs": [],
   "source": [
    "import matplotlib.pyplot as plt\n",
    "import math\n",
    "import numpy as np"
   ]
  },
  {
   "cell_type": "code",
   "execution_count": 46,
   "id": "37fc8dd7",
   "metadata": {},
   "outputs": [
    {
     "data": {
      "image/png": "[encoded data removed]",
      "text/plain": [
       "<Figure size 432x288 with 1 Axes>"
      ]
     },
     "metadata": {
      "needs_background": "light"
     },
     "output_type": "display_data"
    }
   ],
   "source": [
    "plt.title('Big O Notation')\n",
    "plt.xlabel('Elements')\n",
    "plt.ylabel('Operations')\n",
    "plt.ylim(0,10)\n",
    "plt.yticks(ticks = [0,1,2,3,4,5,6,7,8,9,10])\n",
    "plt.xlim(1,3)\n",
    "\n",
    "\n",
    "x = range(1,4)\n",
    "y1 = [(0*n) + 1 for n in x]\n",
    "y2 = [np.log(n) for n in x]\n",
    "y3 = [n for n in x]\n",
    "y4 = [n*math.log(n) for n in x]\n",
    "y5 = [n**2 for n in x]\n",
    "y6 = [2**n for n in x]\n",
    "y7 = [math.factorial(n) for n in x]\n",
    "y8 = [n**n for n in x]\n",
    "\n",
    "# plt.plot(x,y1,\n",
    "#         label = '$O(1)$')\n",
    "plt.plot(x,y2,\n",
    "        label = '$O(log n)$')\n",
    "# plt.plot(x,y3,\n",
    "#         label = '$O(n)$')\n",
    "# plt.plot(x,y4,\n",
    "#         label = '$O(n log n)$')\n",
    "# plt.plot(x,y5,\n",
    "#         label = '$O(n^2)$')\n",
    "# plt.plot(x,y6,\n",
    "#         label = '$O(2^n)$')\n",
    "# plt.plot(x,y7,\n",
    "#         label = '$O(n!)$')\n",
    "# plt.plot(x,y8,\n",
    "#         label = '$O(n^n)$')\n",
    "plt.grid()\n",
    "plt.legend();"
   ]
  },
  {
   "cell_type": "code",
   "execution_count": null,
   "id": "4bff2c0b",
   "metadata": {},
   "outputs": [],
   "source": []
  }
 ],
 "metadata": {
  "kernelspec": {
   "display_name": "Python 3",
   "language": "python",
   "name": "python3"
  },
  "language_info": {
   "codemirror_mode": {
    "name": "ipython",
    "version": 3
   },
   "file_extension": ".py",
   "mimetype": "text/x-python",
   "name": "python",
   "nbconvert_exporter": "python",
   "pygments_lexer": "ipython3",
   "version": "3.8.8"
  }
 },
 "nbformat": 4,
 "nbformat_minor": 5
}
